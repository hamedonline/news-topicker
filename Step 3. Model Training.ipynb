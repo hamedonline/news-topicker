{
 "cells": [
  {
   "cell_type": "markdown",
   "metadata": {},
   "source": [
    "# Model Training"
   ]
  },
  {
   "cell_type": "code",
   "execution_count": 1,
   "metadata": {},
   "outputs": [],
   "source": [
    "# required library imports & variable declarations\n",
    "\n",
    "import numpy as np\n",
    "import pandas as pd\n",
    "import seaborn as sns\n",
    "import matplotlib.pyplot as plt\n",
    "\n",
    "%matplotlib inline\n",
    "\n",
    "\n",
    "# set seed value for reproducibility\n",
    "RANDOM_SEED = 1024"
   ]
  },
  {
   "cell_type": "markdown",
   "metadata": {},
   "source": [
    "## Data Preparation"
   ]
  },
  {
   "cell_type": "markdown",
   "metadata": {},
   "source": [
    "### Reading Cleaned Data"
   ]
  },
  {
   "cell_type": "code",
   "execution_count": 2,
   "metadata": {},
   "outputs": [
    {
     "data": {
      "text/html": [
       "<div>\n",
       "<style scoped>\n",
       "    .dataframe tbody tr th:only-of-type {\n",
       "        vertical-align: middle;\n",
       "    }\n",
       "\n",
       "    .dataframe tbody tr th {\n",
       "        vertical-align: top;\n",
       "    }\n",
       "\n",
       "    .dataframe thead th {\n",
       "        text-align: right;\n",
       "    }\n",
       "</style>\n",
       "<table border=\"1\" class=\"dataframe\">\n",
       "  <thead>\n",
       "    <tr style=\"text-align: right;\">\n",
       "      <th></th>\n",
       "      <th>headline</th>\n",
       "      <th>headline_preprocessed</th>\n",
       "      <th>category</th>\n",
       "    </tr>\n",
       "  </thead>\n",
       "  <tbody>\n",
       "    <tr>\n",
       "      <th>0</th>\n",
       "      <td>Medicare Supplemental Policies: Do You Need One?</td>\n",
       "      <td>medicare supplemental policies do you need one</td>\n",
       "      <td>WELLNESS</td>\n",
       "    </tr>\n",
       "    <tr>\n",
       "      <th>1</th>\n",
       "      <td>7 Tips For You And Your Dog This July 4th</td>\n",
       "      <td>7 tips for you and your dog this july 4th</td>\n",
       "      <td>GREEN &amp; ENVIRONMENT</td>\n",
       "    </tr>\n",
       "    <tr>\n",
       "      <th>2</th>\n",
       "      <td>The Best Hotel-Hosted Super Bowl Parties In La...</td>\n",
       "      <td>the best hotelhosted super bowl parties in las...</td>\n",
       "      <td>TRAVEL</td>\n",
       "    </tr>\n",
       "    <tr>\n",
       "      <th>3</th>\n",
       "      <td>Even If You Lose The Weight, Obesity May Still...</td>\n",
       "      <td>even if you lose the weight obesity may still ...</td>\n",
       "      <td>HEALTHY LIVING</td>\n",
       "    </tr>\n",
       "    <tr>\n",
       "      <th>4</th>\n",
       "      <td>Cocaine Cowboy 'White Boy Rick' Could Be Relea...</td>\n",
       "      <td>cocaine cowboy white boy rick could be release...</td>\n",
       "      <td>CRIME</td>\n",
       "    </tr>\n",
       "  </tbody>\n",
       "</table>\n",
       "</div>"
      ],
      "text/plain": [
       "                                            headline  \\\n",
       "0   Medicare Supplemental Policies: Do You Need One?   \n",
       "1          7 Tips For You And Your Dog This July 4th   \n",
       "2  The Best Hotel-Hosted Super Bowl Parties In La...   \n",
       "3  Even If You Lose The Weight, Obesity May Still...   \n",
       "4  Cocaine Cowboy 'White Boy Rick' Could Be Relea...   \n",
       "\n",
       "                               headline_preprocessed             category  \n",
       "0     medicare supplemental policies do you need one             WELLNESS  \n",
       "1          7 tips for you and your dog this july 4th  GREEN & ENVIRONMENT  \n",
       "2  the best hotelhosted super bowl parties in las...               TRAVEL  \n",
       "3  even if you lose the weight obesity may still ...       HEALTHY LIVING  \n",
       "4  cocaine cowboy white boy rick could be release...                CRIME  "
      ]
     },
     "execution_count": 2,
     "metadata": {},
     "output_type": "execute_result"
    }
   ],
   "source": [
    "import pandas as pd\n",
    "\n",
    "\n",
    "# define relative data path (according the current path of this notebook) and data file name\n",
    "DATA_PATH = './scripts/data'\n",
    "\n",
    "df_train_full = pd.read_csv(f'{DATA_PATH}/train_cleaned.csv.gz')\n",
    "df_test_full  = pd.read_csv(f'{DATA_PATH}/test_cleaned.csv.gz')\n",
    "\n",
    "df_train_full.head()"
   ]
  },
  {
   "cell_type": "markdown",
   "metadata": {},
   "source": [
    "### Subsampling Data\n",
    "Our dataset is large (159k+ rows for train and 40k+ for test portions). Needless to say, creating multiple models and tuning them will take a long time. What should we do then?<br>\n",
    "One simple trick I use in similar cases is to create a representative subsample dataset with smaller number of samples and then do the tuning magics on this one. Later on I can utilize the parameters I discovered and use them on full train data or entire dataset. Although this is not an ideal practice, it provides a good starting point when resources are limited."
   ]
  },
  {
   "cell_type": "code",
   "execution_count": 3,
   "metadata": {},
   "outputs": [],
   "source": [
    "# let's shuffle the whole dataframe before subsampling\n",
    "df_train_full = df_train_full.sample(frac=1, random_state=RANDOM_SEED).reset_index(drop=True)\n",
    "\n",
    "# second shuffle with an exponential random seed :D\n",
    "df_train_full = df_train_full.sample(frac=1, random_state=(RANDOM_SEED**2)).reset_index(drop=True)"
   ]
  },
  {
   "cell_type": "markdown",
   "metadata": {},
   "source": [
    "To make sure that the subsampled data is representative and similar to our original full dataset, it is advised widely to use __stratified__ method in all sampling scenarios."
   ]
  },
  {
   "cell_type": "code",
   "execution_count": 4,
   "metadata": {},
   "outputs": [],
   "source": [
    "from sklearn.model_selection import train_test_split\n",
    "\n",
    "\n",
    "column_target = 'category'\n",
    "desired_subsample_size_train = 8000\n",
    "desired_subsample_size_valid = 8000\n",
    "\n",
    "# split the data into representative training and validation sets\n",
    "df_train_subsample, df_valid_subsample = train_test_split(\n",
    "    df_train_full,\n",
    "    train_size=desired_subsample_size_train,\n",
    "    test_size=desired_subsample_size_valid,\n",
    "    stratify=df_train_full[column_target],\n",
    "    random_state=RANDOM_SEED\n",
    ")"
   ]
  },
  {
   "cell_type": "markdown",
   "metadata": {},
   "source": [
    "### Class Labels"
   ]
  },
  {
   "cell_type": "code",
   "execution_count": 5,
   "metadata": {},
   "outputs": [
    {
     "name": "stdout",
     "output_type": "stream",
     "text": [
      "Classification Labels:\n",
      "['PARENTING', 'GREEN & ENVIRONMENT', 'WORLD NEWS', 'WOMEN', 'ENTERTAINMENT', 'COMEDY', 'STYLE & BEAUTY', 'FOOD & DRINK', 'WELLNESS', 'COLLEGE', 'HEALTHY LIVING', 'TRAVEL', 'POLITICS', 'TECH', 'IMPACT', 'HOME & LIVING', 'BUSINESS', 'CRIME', 'MEDIA', 'BLACK VOICES', 'WEDDINGS', 'QUEER VOICES', 'MONEY', 'SPORTS', 'ARTS & CULTURE', 'LATINO VOICES', 'SCIENCE', 'GOOD NEWS', 'DIVORCE', 'WEIRD NEWS', 'RELIGION', 'FIFTY', 'EDUCATION']\n"
     ]
    }
   ],
   "source": [
    "category_map = dict(zip(df_train_full['category'].unique(), range(len(df_train_full['category'].unique()))))\n",
    "\n",
    "class_labels = list(category_map.keys())\n",
    "print(f'Classification Labels:\\n{class_labels}')"
   ]
  },
  {
   "cell_type": "markdown",
   "metadata": {},
   "source": [
    "## Creating Language Model Class\n",
    "Just like convolutional neural networks that enable feature extraction from images, language models like BERT, Roberta, etc. allow us to get contextual embedding or vector representation of an input text by the power of transformers and attention masks, which are pretty sophisticated neural network architecture designs. Our final model will utilize a language model inside. First we get the vector representation of the input from language model, and then pass it to the final layers of neural network. In fact, model training phase consist of fine-tuning the weights of our model's additional hidden layers for our classification task.\n",
    "\n",
    "But before getting into building our neural network, we need to create a class that will allow us to handle multiple language models in an easy way."
   ]
  },
  {
   "cell_type": "code",
   "execution_count": 6,
   "metadata": {},
   "outputs": [],
   "source": [
    "from typing import Union\n",
    "from transformers import AutoTokenizer, AutoModel\n",
    "\n",
    "\n",
    "class LanguageModel():\n",
    "    def __init__(self, model_name: str, device: str, tokenizer_max_length: int=None, fine_tune_model: bool=False):\n",
    "        self.model = AutoModel.from_pretrained(model_name, return_dict=False)\n",
    "        self.tokenizer = AutoTokenizer.from_pretrained(model_name, return_dict=False)\n",
    "        self.tokenizer_max_length = tokenizer_max_length\n",
    "\n",
    "        # model initialization\n",
    "        self.model.to(device)\n",
    "        if fine_tune_model:\n",
    "            self.model.train()\n",
    "        else:\n",
    "            self.model.eval()\n",
    "\n",
    "\n",
    "    def get_embedding_size(self) -> int:\n",
    "        return self.model.config.hidden_size\n",
    "\n",
    "    def set_tokenizer_max_length(self, length: int) -> None:\n",
    "        self.tokenizer_max_length = length\n",
    "\n",
    "    def estimate_tokenizer_max_length(self, df: pd.DataFrame, text_column_name: str, estimation_type: str = None, adjustment_coefficient: float = 1.0) -> Union[int, dict]:\n",
    "        '''\n",
    "        Extracts the token length needed for language model based on desired estimation approach.\n",
    "        Uses a text column of a dataframe for the estimation of the token length.\n",
    "\n",
    "        Args:\n",
    "            df (pd.DataFrame): the dataframe to be used for the estimation\n",
    "            text_column_name (str): column title of the text column in the dataframe\n",
    "            estimation_type (str, optional): 'avg', 'max' or 'min' :: defaults to None\n",
    "            adjustment_coefficient (float): a coefficient to multiply the estimated token length by, defaults to 1.0 :: e.g. 1.2 => 20% larger token length\n",
    "\n",
    "        Returns:\n",
    "            int or dict: the estimated token length(s)\n",
    "        '''\n",
    "        if adjustment_coefficient <= 0.0:\n",
    "            raise ValueError(\"adjust_amount must be a positive float.\")\n",
    "\n",
    "        if estimation_type is not None:\n",
    "            self.validate_tokenizer_max_length(estimation_type, identifier='estimation_type')\n",
    "\n",
    "        results = dict()\n",
    "        # find the rows with the most and least count of words\n",
    "        word_counts = df[text_column_name].str.split().str.len()\n",
    "        index_max = word_counts.argmax()\n",
    "        index_min = word_counts.argmin()\n",
    "        text_with_max_words = df[text_column_name].iloc[index_max]\n",
    "        text_with_min_words = df[text_column_name].iloc[index_min]\n",
    "        # tokenize them and add special tokens, for example `[CLS]` and `[SEP]`\n",
    "        token_ids_most  = self.tokenizer.encode(text_with_max_words, add_special_tokens=True)\n",
    "        token_ids_least = self.tokenizer.encode(text_with_min_words, add_special_tokens=True)\n",
    "        # push 'max' and 'min' token ids length to results list\n",
    "        results['max'] = round(len(token_ids_most) * adjustment_coefficient)\n",
    "        results['min'] = round(len(token_ids_least) * adjustment_coefficient)\n",
    "\n",
    "        # do not continue any further if we don't need to estimate 'avg'\n",
    "        if estimation_type in ['max', 'min']:\n",
    "            return results[estimation_type]\n",
    "\n",
    "        # 'avg' or altogether\n",
    "        tokens_sum = 0\n",
    "        all_text = df[text_column_name]\n",
    "        for text in all_text:\n",
    "            # tokenize the text and add special tokens, for example `[CLS]` and `[SEP]`\n",
    "            token_ids = self.tokenizer.encode(text, add_special_tokens=True)\n",
    "            # update the token length sum\n",
    "            tokens_sum += len(token_ids)\n",
    "        results['avg'] = round(round(tokens_sum / len(df)) * adjustment_coefficient)\n",
    "\n",
    "        return results['avg'] if estimation_type == 'avg' else results\n",
    "\n",
    "    def validate_tokenizer_max_length(self, token_length: Union[int, str], identifier='token_length') -> bool:\n",
    "        if (not isinstance(token_length, int) and not isinstance(token_length, str)) or \\\n",
    "           (not isinstance(token_length, str) and not isinstance(token_length, int)):\n",
    "            raise ValueError(f\"Wrong value provided, please check '{identifier}' parameter.\")\n",
    "        if isinstance(token_length, str) and token_length not in ['avg', 'max', 'min']:\n",
    "            raise ValueError(f\"Wrong value provided, please check '{identifier}' parameter.\\n\\\n",
    "                            It must be one of 'avg', 'max' or 'min' values.\")\n",
    "        if isinstance(token_length, int) and token_length < 1:\n",
    "            raise ValueError(f\"Wrong value provided, please check '{identifier}' parameter.\\n\\\n",
    "                            It must be a positive integer.\")\n",
    "        return True"
   ]
  },
  {
   "cell_type": "markdown",
   "metadata": {},
   "source": [
    "## Building PyTorch Modules"
   ]
  },
  {
   "cell_type": "code",
   "execution_count": 7,
   "metadata": {},
   "outputs": [
    {
     "name": "stdout",
     "output_type": "stream",
     "text": [
      "PyTorch runs on =>  cuda:0 \n",
      "PyTorch version =>  1.10.0+cu113\n"
     ]
    }
   ],
   "source": [
    "import os\n",
    "import torch\n",
    "from torch import nn, optim\n",
    "from torch.utils.data import Dataset, DataLoader, Sampler\n",
    "from transformers import get_linear_schedule_with_warmup\n",
    "\n",
    "\n",
    "# GPU support\n",
    "use_gpu = True\n",
    "cuda_available = torch.cuda.is_available()\n",
    "device = torch.device('cuda:0' if (cuda_available and use_gpu) else 'cpu')\n",
    "print('PyTorch runs on => ', device, '\\nPyTorch version => ', torch.__version__)\n",
    "if use_gpu:\n",
    "    torch.cuda.empty_cache()\n",
    "torch.set_num_threads(torch.get_num_threads()-1)\n",
    "\n",
    "# reproducibility (almost)\n",
    "torch.manual_seed(RANDOM_SEED)\n",
    "torch.cuda.manual_seed(RANDOM_SEED)\n",
    "torch.cuda.manual_seed_all(RANDOM_SEED)\n",
    "torch.backends.cudnn.deterministic = True\n",
    "torch.backends.cudnn.benchmark = False"
   ]
  },
  {
   "cell_type": "markdown",
   "metadata": {},
   "source": [
    "### Dataset Class"
   ]
  },
  {
   "cell_type": "code",
   "execution_count": 8,
   "metadata": {},
   "outputs": [],
   "source": [
    "import re\n",
    "import string\n",
    "\n",
    "\n",
    "# pytorch dataset class\n",
    "class TextClassificationDataset(Dataset):\n",
    "    def __init__(self, df: pd.DataFrame, text_column_name: str, label_column_name: str, language_model: LanguageModel, preprocess: bool = False):\n",
    "        self.df = df\n",
    "        self.tokenizer = language_model.tokenizer\n",
    "        self.tokenizer_max_length = language_model.tokenizer_max_length\n",
    "\n",
    "        if preprocess:\n",
    "            text_column = f'{text_column_name}_preprocessed'\n",
    "            self.df[text_column] = df.apply(lambda row: self.preprocess_text(str(row[text_column_name])), axis=1)\n",
    "        else: text_column = text_column_name\n",
    "\n",
    "        # get category name and corresponding index from the dataframe\n",
    "        classes_map  = dict(zip(sorted(df[label_column_name].unique()), range(len(df[label_column_name].unique()))))\n",
    "        self.titles  = df[text_column].to_numpy()\n",
    "        self.targets = df[label_column_name].map(classes_map).to_numpy()\n",
    "\n",
    "\n",
    "    def __len__(self):\n",
    "        return len(self.df)\n",
    "\n",
    "    def __getitem__(self, idx):\n",
    "        text = str(self.titles[idx])\n",
    "        label = self.targets[idx]\n",
    "        text_encoding = self.tokenizer.encode_plus(\n",
    "            text,\n",
    "            add_special_tokens=True,\n",
    "            max_length=self.tokenizer_max_length,\n",
    "            return_token_type_ids=False,\n",
    "            padding='max_length',\n",
    "            truncation=True,\n",
    "            return_attention_mask=True,\n",
    "            return_tensors='pt',\n",
    "        )\n",
    "        sample = {\n",
    "            'token_ids': text_encoding['input_ids'].flatten(),\n",
    "            'attention_mask': text_encoding['attention_mask'].flatten()}\n",
    "        output = torch.tensor(label, dtype=torch.long)\n",
    "        return (sample, output)\n",
    "\n",
    "    def preprocess_text(self, text: str) -> str:\n",
    "        text = text.lower()  # convert to lowercase\n",
    "        text = re.sub('(#)(\\S+)', r' \\2', text)  # remove hashtags sign\n",
    "        text = re.sub('[%s]' % re.escape(string.punctuation), '', text)  # remove punctuations\n",
    "        text = re.sub(' +', ' ', text)  # replace multiple whitespaces with a single space\n",
    "        text = text.strip()  # remove leading and trailing whitespaces\n",
    "        return text"
   ]
  },
  {
   "cell_type": "markdown",
   "metadata": {},
   "source": [
    "### Dataloader Class"
   ]
  },
  {
   "cell_type": "code",
   "execution_count": 9,
   "metadata": {},
   "outputs": [],
   "source": [
    "# pytorch dataloader class\n",
    "class TextClassificationDataLoader(DataLoader):\n",
    "    def __init__(self, dataset: Dataset, batch_size: int = 128, shuffle: bool = False, sampler: Sampler = None, num_workers: int = 0):\n",
    "        super().__init__(dataset, batch_size=batch_size, shuffle=shuffle, sampler=sampler, num_workers=num_workers)"
   ]
  },
  {
   "cell_type": "markdown",
   "metadata": {},
   "source": [
    "### Classification Model"
   ]
  },
  {
   "cell_type": "code",
   "execution_count": 10,
   "metadata": {},
   "outputs": [],
   "source": [
    "# pytorch model class\n",
    "class TopicClassifier(nn.Module):\n",
    "    def __init__(self, n_classes: int, language_model: LanguageModel, nn_options: dict):\n",
    "        super(TopicClassifier, self).__init__()\n",
    "\n",
    "        self.n_classes = n_classes\n",
    "\n",
    "        self.lm = language_model.model\n",
    "        self.lm.eval()  # important: evaluation mode must be enabled for language model, to prevent re-training model on each call\n",
    "\n",
    "        self.emb_size = language_model.get_embedding_size()  # embedding size\n",
    "\n",
    "        self.embedding_normalization = nn_options['embedding_normalization']\n",
    "        if self.embedding_normalization['enabled']:\n",
    "            if self.embedding_normalization['type'] == 'simple':\n",
    "                self.emb_normalizer = nn.functional.normalize\n",
    "            elif self.embedding_normalization['type'] == 'standard':\n",
    "                self.emb_normalizer = nn.LayerNorm(self.emb_size)\n",
    "            else:\n",
    "                raise ValueError(f\"Invalid normalization type: {self.normalization['type']}\")\n",
    "\n",
    "        self.n_hidden_layers = nn_options['n_hidden_layers']\n",
    "        self.use_dropout = nn_options['use_dropout']\n",
    "        self.dropout_val = nn_options['dropout_val']\n",
    "        self.use_activation_fn = nn_options['use_activation_fn']\n",
    "        self.activation_fn = nn_options['activation_fn']\n",
    "\n",
    "        self.fc = nn.Sequential(\n",
    "            # hidden layer(s)\n",
    "            self.generate_hidden_unit(self.n_hidden_layers, self.emb_size),\n",
    "            # output layer\n",
    "            nn.Linear(self.emb_size, self.n_classes),\n",
    "        )\n",
    "\n",
    "    # generate hidden unit\n",
    "    def generate_hidden_unit(self, n_layers, layer_size):\n",
    "        layers = []\n",
    "        for i in range(n_layers):\n",
    "            layers.append(nn.Linear(layer_size, layer_size))\n",
    "            if self.use_activation_fn:\n",
    "                layers.append(self.activation_fn)\n",
    "            if self.use_dropout:\n",
    "                layers.append(nn.Dropout(self.dropout_val))\n",
    "        block = nn.Sequential(*layers)\n",
    "        return block\n",
    "\n",
    "    def forward(self, x):\n",
    "        _, embedding = self.lm(\n",
    "            input_ids=x['token_ids'],\n",
    "            attention_mask=x['attention_mask']\n",
    "        )\n",
    "        if self.embedding_normalization['enabled']: embedding = self.emb_normalizer(embedding)\n",
    "\n",
    "        output = self.fc(embedding)\n",
    "        return output"
   ]
  },
  {
   "cell_type": "markdown",
   "metadata": {},
   "source": [
    "### Train Functions"
   ]
  },
  {
   "cell_type": "markdown",
   "metadata": {},
   "source": [
    "#### Train Step"
   ]
  },
  {
   "cell_type": "code",
   "execution_count": 11,
   "metadata": {},
   "outputs": [],
   "source": [
    "from sklearn.metrics import accuracy_score, f1_score\n",
    "\n",
    "\n",
    "def train_step(model, data_loader, loss_fn, optimizer, device):\n",
    "    model.train()\n",
    "\n",
    "    losses = []\n",
    "    predictions = []\n",
    "    labels = []\n",
    "\n",
    "    for i, (train_inputs, train_labels) in enumerate(data_loader):\n",
    "        for input_tensor in train_inputs:\n",
    "            train_inputs[input_tensor] = train_inputs[input_tensor].to(device)\n",
    "        train_labels = train_labels.to(device)\n",
    "\n",
    "        optimizer.zero_grad()\n",
    "        output = model(train_inputs)\n",
    "\n",
    "        loss = loss_fn(output, train_labels)\n",
    "        loss.backward()\n",
    "        torch.nn.utils.clip_grad_norm_(model.parameters(), 0.3)  # prevent exploding gradients\n",
    "        optimizer.step()\n",
    "\n",
    "        _, preds = torch.max(output, dim=1)\n",
    "        losses.append(loss.item())\n",
    "        predictions.append(preds.cpu().numpy())\n",
    "        labels.append(train_labels.data.cpu().numpy())\n",
    "\n",
    "    # calculate accuracy & f1 score\n",
    "    predictions = np.concatenate(predictions, axis=0)\n",
    "    labels = np.concatenate(labels, axis=0)\n",
    "    f1 = f1_score(labels, predictions, average='macro')\n",
    "    acc = accuracy_score(labels, predictions)\n",
    "\n",
    "    return np.mean(losses), acc, f1"
   ]
  },
  {
   "cell_type": "markdown",
   "metadata": {},
   "source": [
    "#### Evaluation Step"
   ]
  },
  {
   "cell_type": "code",
   "execution_count": 12,
   "metadata": {},
   "outputs": [],
   "source": [
    "def eval_model(model, data_loader, loss_fn, device):\n",
    "    model.eval()\n",
    "\n",
    "    losses = []\n",
    "    predictions = []\n",
    "    labels = []\n",
    "\n",
    "    with torch.no_grad():\n",
    "        for i, (test_inputs, test_labels) in enumerate(data_loader):\n",
    "            for input_tensor in test_inputs:\n",
    "                test_inputs[input_tensor] = test_inputs[input_tensor].to(device)\n",
    "            test_labels = test_labels.to(device)\n",
    "\n",
    "            output = model(test_inputs)\n",
    "            loss = loss_fn(output, test_labels)\n",
    "\n",
    "            _, preds = torch.max(output, dim=1)\n",
    "            losses.append(loss.item())\n",
    "            predictions.append(preds.cpu().numpy())\n",
    "            labels.append(test_labels.data.cpu().numpy())\n",
    "\n",
    "    # calculate accuracy & f1 score\n",
    "    predictions = np.concatenate(predictions, axis=0)\n",
    "    labels = np.concatenate(labels, axis=0)\n",
    "    f1 = f1_score(labels, predictions, average='macro')\n",
    "    acc = accuracy_score(labels, predictions)\n",
    "\n",
    "    return np.mean(losses), acc, f1"
   ]
  },
  {
   "cell_type": "markdown",
   "metadata": {},
   "source": [
    "#### Train Loop"
   ]
  },
  {
   "cell_type": "code",
   "execution_count": 13,
   "metadata": {},
   "outputs": [],
   "source": [
    "import copy\n",
    "from collections import defaultdict\n",
    "\n",
    "\n",
    "def train(model, train_dataloader, validation_dataloader, loss_fn, optimizer, scheduler, device, n_epochs):\n",
    "    train_history = defaultdict(list)\n",
    "    best_epoch = 1\n",
    "    best_loss = float('inf')\n",
    "    best_loss_f1 = 0.0\n",
    "    best_wts = copy.deepcopy(model.state_dict())\n",
    "\n",
    "    for epoch in range(n_epochs):\n",
    "        print(f\"Epoch {epoch + 1}/{n_epochs}\")\n",
    "        print('-' * 10)\n",
    "\n",
    "        train_loss, train_acc, train_f1 = train_step(model, train_dataloader, loss_fn, optimizer, device)\n",
    "        print(f'Train Loss: {train_loss:.6f}, Accuracy: {train_acc:.4f}, F1: {train_f1:.4f}')\n",
    "\n",
    "        validation_loss, validation_acc, validation_f1 = eval_model(model, validation_dataloader, loss_fn, device)\n",
    "        print(f'Valid Loss: {validation_loss:.6f}, Accuracy: {validation_acc:.4f}, F1: {validation_f1:.4f}', end='\\n\\n')\n",
    "\n",
    "        train_history['train_loss'].append(train_loss)\n",
    "        train_history['train_acc'].append(train_acc)\n",
    "        train_history['train_f1'].append(train_f1)\n",
    "        train_history['val_loss'].append(validation_loss)\n",
    "        train_history['val_acc'].append(validation_acc)\n",
    "        train_history['val_f1'].append(validation_f1)\n",
    "\n",
    "        # scheduler.step(validation_loss)\n",
    "        scheduler.step()\n",
    "\n",
    "        # update best model stats\n",
    "        if validation_loss < best_loss:\n",
    "            best_loss = validation_loss\n",
    "            best_loss_f1 = validation_f1\n",
    "            best_wts = copy.deepcopy(model.state_dict())\n",
    "            best_epoch = (epoch + 1)\n",
    "\n",
    "    # load best model weights on model object after train is complete\n",
    "    model.load_state_dict(best_wts)\n",
    "    # print best model stats\n",
    "    print(f'best model criteria => least validation loss: {best_loss:.6f} @ epoch {best_epoch} with f1 score of: {best_loss_f1:.4f} ')\n",
    "    return train_history"
   ]
  },
  {
   "cell_type": "markdown",
   "metadata": {},
   "source": [
    "## Hyperparameter Tuning & Training"
   ]
  },
  {
   "cell_type": "markdown",
   "metadata": {},
   "source": [
    "### Initializing Instances"
   ]
  },
  {
   "cell_type": "code",
   "execution_count": 14,
   "metadata": {},
   "outputs": [
    {
     "name": "stderr",
     "output_type": "stream",
     "text": [
      "Some weights of the model checkpoint at bert-base-uncased were not used when initializing BertModel: ['cls.predictions.decoder.weight', 'cls.seq_relationship.bias', 'cls.predictions.transform.LayerNorm.bias', 'cls.predictions.transform.LayerNorm.weight', 'cls.predictions.transform.dense.bias', 'cls.predictions.transform.dense.weight', 'cls.predictions.bias', 'cls.seq_relationship.weight']\n",
      "- This IS expected if you are initializing BertModel from the checkpoint of a model trained on another task or with another architecture (e.g. initializing a BertForSequenceClassification model from a BertForPreTraining model).\n",
      "- This IS NOT expected if you are initializing BertModel from the checkpoint of a model that you expect to be exactly identical (initializing a BertForSequenceClassification model from a BertForSequenceClassification model).\n"
     ]
    }
   ],
   "source": [
    "# initialize language model\n",
    "lm_BERT = LanguageModel(model_name='bert-base-uncased', device=device)\n",
    "\n",
    "# estimate max length of tokenizer\n",
    "tokenizer_len = lm_BERT.estimate_tokenizer_max_length(\n",
    "    df=df_train_subsample,\n",
    "    text_column_name='headline_preprocessed',\n",
    "    estimation_type='avg',\n",
    "    adjustment_coefficient=1.5\n",
    ")\n",
    "\n",
    "# set tokenizer max length\n",
    "lm_BERT.set_tokenizer_max_length(tokenizer_len)"
   ]
  },
  {
   "cell_type": "code",
   "execution_count": 15,
   "metadata": {},
   "outputs": [],
   "source": [
    "# initialize dataset & dataloader objects\n",
    "\n",
    "BATCH_SIZE = 192\n",
    "\n",
    "# train dataset\n",
    "dataset_train_subsample = TextClassificationDataset(\n",
    "    df=df_train_subsample,\n",
    "    text_column_name='headline_preprocessed',\n",
    "    label_column_name='category',\n",
    "    language_model=lm_BERT\n",
    ")\n",
    "\n",
    "# validation dataset\n",
    "dataset_valid_subsample = TextClassificationDataset(\n",
    "    df=df_valid_subsample,\n",
    "    text_column_name='headline_preprocessed',\n",
    "    label_column_name='category',\n",
    "    language_model=lm_BERT\n",
    ")\n",
    "\n",
    "# train dataloader\n",
    "dataloader_train_subsample = TextClassificationDataLoader(\n",
    "    dataset=dataset_train_subsample,\n",
    "    batch_size=BATCH_SIZE,\n",
    "    shuffle=True\n",
    ")\n",
    "\n",
    "# validation dataloader\n",
    "dataloader_valid_subsample = TextClassificationDataLoader(\n",
    "    dataset=dataset_valid_subsample,\n",
    "    batch_size=BATCH_SIZE,\n",
    "    shuffle=False\n",
    ")"
   ]
  },
  {
   "cell_type": "code",
   "execution_count": 16,
   "metadata": {},
   "outputs": [
    {
     "name": "stdout",
     "output_type": "stream",
     "text": [
      "torch.Size([192, 20])\n",
      "torch.Size([192, 20])\n",
      "torch.Size([192])\n"
     ]
    }
   ],
   "source": [
    "sample_data = next(iter(dataloader_train_subsample))\n",
    "sample_input, sample_output = sample_data[0], sample_data[1]\n",
    "\n",
    "print(sample_input['token_ids'].shape)\n",
    "print(sample_input['attention_mask'].shape)\n",
    "print(sample_output.shape)"
   ]
  },
  {
   "cell_type": "code",
   "execution_count": 17,
   "metadata": {},
   "outputs": [],
   "source": [
    "# initialize model properties\n",
    "\n",
    "\n",
    "# neural network architecture parameters\n",
    "nn_options_dict = {\n",
    "    # number of hidden layers in the network (the larger the number, the more complex the model)\n",
    "    'n_hidden_layers': 1,\n",
    "    'embedding_normalization': {\n",
    "        'enabled': True,  # whether to normalize the input embedding vectors\n",
    "        'type': 'standard', # 'simple' | 'standard'  :: 'simple' => normalize to (0~1) range, 'standard' => normalize using mean and standard-deviation\n",
    "    },\n",
    "    'use_dropout': False,\n",
    "    'dropout_val': 0.2,\n",
    "    'use_activation_fn': True,\n",
    "    'activation_fn': nn.ReLU()    # nn.LeakyReLU(), nn.SELU(), ...\n",
    "}\n",
    "\n",
    "# neural network model\n",
    "model = TopicClassifier(n_classes=len(class_labels), language_model=lm_BERT, nn_options=nn_options_dict)\n",
    "model = model.to(device)\n",
    "\n",
    "\n",
    "# loss function\n",
    "# use CrossEntropy loss given we have a multi-class classification problem\n",
    "# this loss function also automatically applies softmax to the output of the model\n",
    "loss_fn = nn.CrossEntropyLoss().to(device)"
   ]
  },
  {
   "cell_type": "markdown",
   "metadata": {},
   "source": [
    "### Finding Optimal Learning Rate\n",
    "You may uncomment the below cell and look for better learning rate values. Several runs with different learning rates showed that the best learning rate is around 1e-5."
   ]
  },
  {
   "cell_type": "code",
   "execution_count": 18,
   "metadata": {},
   "outputs": [],
   "source": [
    "# from torch_lr_finder import LRFinder\n",
    "\n",
    "# # optimizer\n",
    "# optimizer = torch.optim.AdamW(model.parameters())\n",
    "\n",
    "# lr_finder = LRFinder(model, optimizer, loss_fn, device=device)\n",
    "# # lr_finder.range_test(dataloader_train_subsample, start_lr=1e-5, end_lr=5e-3, num_iter=100)\n",
    "# lr_finder.range_test(train_loader=dataloader_train_subsample, val_loader=dataloader_valid_subsample,\n",
    "#                      start_lr=1e-6, end_lr=1e-2, num_iter=100, step_mode=\"exp\")\n",
    "# lr_finder.plot()  # to inspect the loss-learning rate graph\n",
    "# lr_finder.reset()"
   ]
  },
  {
   "cell_type": "markdown",
   "metadata": {},
   "source": [
    "### Training"
   ]
  },
  {
   "cell_type": "code",
   "execution_count": 19,
   "metadata": {},
   "outputs": [
    {
     "name": "stdout",
     "output_type": "stream",
     "text": [
      "Epoch 1/20\n",
      "----------\n",
      "Train Loss: 3.227661, Accuracy: 0.1505, F1: 0.0119\n",
      "Valid Loss: 3.047465, Accuracy: 0.1644, F1: 0.0093\n",
      "\n",
      "Epoch 2/20\n",
      "----------\n",
      "Train Loss: 2.852124, Accuracy: 0.2629, F1: 0.0534\n",
      "Valid Loss: 2.616861, Accuracy: 0.3820, F1: 0.1107\n",
      "\n",
      "Epoch 3/20\n",
      "----------\n",
      "Train Loss: 2.486686, Accuracy: 0.3996, F1: 0.1210\n",
      "Valid Loss: 2.307933, Accuracy: 0.4402, F1: 0.1463\n",
      "\n",
      "Epoch 4/20\n",
      "----------\n",
      "Train Loss: 2.206367, Accuracy: 0.4685, F1: 0.1623\n",
      "Valid Loss: 2.105043, Accuracy: 0.4893, F1: 0.1981\n",
      "\n",
      "Epoch 5/20\n",
      "----------\n",
      "Train Loss: 1.996657, Accuracy: 0.5181, F1: 0.2148\n",
      "Valid Loss: 1.981570, Accuracy: 0.5122, F1: 0.2322\n",
      "\n",
      "Epoch 6/20\n",
      "----------\n",
      "Train Loss: 1.825878, Accuracy: 0.5540, F1: 0.2516\n",
      "Valid Loss: 1.883395, Accuracy: 0.5334, F1: 0.2543\n",
      "\n",
      "Epoch 7/20\n",
      "----------\n",
      "Train Loss: 1.681526, Accuracy: 0.5887, F1: 0.2911\n",
      "Valid Loss: 1.809142, Accuracy: 0.5487, F1: 0.2886\n",
      "\n",
      "Epoch 8/20\n",
      "----------\n",
      "Train Loss: 1.559732, Accuracy: 0.6148, F1: 0.3256\n",
      "Valid Loss: 1.762177, Accuracy: 0.5614, F1: 0.3094\n",
      "\n",
      "Epoch 9/20\n",
      "----------\n",
      "Train Loss: 1.447011, Accuracy: 0.6465, F1: 0.3707\n",
      "Valid Loss: 1.722412, Accuracy: 0.5713, F1: 0.3351\n",
      "\n",
      "Epoch 10/20\n",
      "----------\n",
      "Train Loss: 1.334622, Accuracy: 0.6701, F1: 0.4020\n",
      "Valid Loss: 1.693324, Accuracy: 0.5733, F1: 0.3460\n",
      "\n",
      "Epoch 11/20\n",
      "----------\n",
      "Train Loss: 1.230504, Accuracy: 0.6907, F1: 0.4323\n",
      "Valid Loss: 1.669632, Accuracy: 0.5776, F1: 0.3627\n",
      "\n",
      "Epoch 12/20\n",
      "----------\n",
      "Train Loss: 1.143795, Accuracy: 0.7164, F1: 0.4717\n",
      "Valid Loss: 1.658466, Accuracy: 0.5826, F1: 0.3790\n",
      "\n",
      "Epoch 13/20\n",
      "----------\n",
      "Train Loss: 1.057415, Accuracy: 0.7338, F1: 0.5023\n",
      "Valid Loss: 1.656341, Accuracy: 0.5826, F1: 0.3867\n",
      "\n",
      "Epoch 14/20\n",
      "----------\n",
      "Train Loss: 0.976078, Accuracy: 0.7586, F1: 0.5358\n",
      "Valid Loss: 1.657268, Accuracy: 0.5836, F1: 0.3954\n",
      "\n",
      "Epoch 15/20\n",
      "----------\n",
      "Train Loss: 0.900266, Accuracy: 0.7779, F1: 0.5642\n",
      "Valid Loss: 1.652575, Accuracy: 0.5903, F1: 0.4064\n",
      "\n",
      "Epoch 16/20\n",
      "----------\n",
      "Train Loss: 0.832605, Accuracy: 0.7941, F1: 0.5907\n",
      "Valid Loss: 1.674328, Accuracy: 0.5831, F1: 0.4102\n",
      "\n",
      "Epoch 17/20\n",
      "----------\n",
      "Train Loss: 0.760002, Accuracy: 0.8151, F1: 0.6241\n",
      "Valid Loss: 1.687333, Accuracy: 0.5886, F1: 0.4242\n",
      "\n",
      "Epoch 18/20\n",
      "----------\n",
      "Train Loss: 0.705528, Accuracy: 0.8297, F1: 0.6507\n",
      "Valid Loss: 1.693137, Accuracy: 0.5859, F1: 0.4284\n",
      "\n",
      "Epoch 19/20\n",
      "----------\n",
      "Train Loss: 0.643149, Accuracy: 0.8425, F1: 0.6748\n",
      "Valid Loss: 1.704569, Accuracy: 0.5875, F1: 0.4418\n",
      "\n",
      "Epoch 20/20\n",
      "----------\n",
      "Train Loss: 0.594705, Accuracy: 0.8548, F1: 0.6958\n",
      "Valid Loss: 1.727337, Accuracy: 0.5904, F1: 0.4379\n",
      "\n",
      "best model criteria => least validation loss: 1.652575 @ epoch 15 with f1 score of: 0.4064 \n",
      "Wall time: 14min 8s\n"
     ]
    }
   ],
   "source": [
    "%%time\n",
    "\n",
    "NUM_EPOCHS = 20\n",
    "\n",
    "\n",
    "# optimizer with newly found optimum learning rate\n",
    "optimizer = torch.optim.AdamW(model.parameters(), lr=1e-5)\n",
    "\n",
    "# scheduler to adjust learning rate during training\n",
    "total_steps = len(dataloader_train_subsample) * NUM_EPOCHS\n",
    "scheduler = get_linear_schedule_with_warmup(\n",
    "    optimizer,\n",
    "    num_warmup_steps=0,\n",
    "    num_training_steps=total_steps\n",
    ")\n",
    "\n",
    "# train model\n",
    "train_history = train(\n",
    "    model=model,\n",
    "    train_dataloader=dataloader_train_subsample,\n",
    "    validation_dataloader=dataloader_valid_subsample,\n",
    "    loss_fn=loss_fn,\n",
    "    optimizer=optimizer,\n",
    "    scheduler=scheduler,\n",
    "    device=device,\n",
    "    n_epochs=NUM_EPOCHS,\n",
    ")"
   ]
  },
  {
   "cell_type": "markdown",
   "metadata": {},
   "source": [
    "Not a bad result for only training on 5% of samples! We should also note that there are 33 classes in total; results are promising for such a small subset of data and diverse classification problem."
   ]
  },
  {
   "cell_type": "markdown",
   "metadata": {},
   "source": [
    "## Saving Model"
   ]
  },
  {
   "cell_type": "code",
   "execution_count": 22,
   "metadata": {},
   "outputs": [],
   "source": [
    "MODEL_PATH = './scripts/model'\n",
    "MODEL_NAME = 'model_subsample.pt'\n",
    "\n",
    "# save pytorch model\n",
    "torch.save(model.state_dict(), f'{MODEL_PATH}/{MODEL_NAME}')"
   ]
  },
  {
   "cell_type": "code",
   "execution_count": 23,
   "metadata": {},
   "outputs": [
    {
     "name": "stdout",
     "output_type": "stream",
     "text": [
      "File size of pt model on disk: 420.08 MB\n"
     ]
    }
   ],
   "source": [
    "from os import stat\n",
    "\n",
    "filesize_in_bytes = stat(f'{MODEL_PATH}/{MODEL_NAME}').st_size\n",
    "filesize_in_mb = (filesize_in_bytes / 1024) / 1024\n",
    "print(f'File size of pt model on disk: {filesize_in_mb:.2f} MB')"
   ]
  },
  {
   "cell_type": "markdown",
   "metadata": {},
   "source": [
    "__Note:__ As you can see above, the raw model file is large. Therefore it is not put in repo to avoid problematic repo cloning size."
   ]
  }
 ],
 "metadata": {
  "interpreter": {
   "hash": "97ae724bfa85b9b34df7982b8bb8c7216f435b92902d749e4263f71162bea840"
  },
  "kernelspec": {
   "display_name": "Python 3.7.12 64-bit ('base': conda)",
   "language": "python",
   "name": "python3"
  },
  "language_info": {
   "codemirror_mode": {
    "name": "ipython",
    "version": 3
   },
   "file_extension": ".py",
   "mimetype": "text/x-python",
   "name": "python",
   "nbconvert_exporter": "python",
   "pygments_lexer": "ipython3",
   "version": "3.7.12"
  },
  "orig_nbformat": 4
 },
 "nbformat": 4,
 "nbformat_minor": 2
}
